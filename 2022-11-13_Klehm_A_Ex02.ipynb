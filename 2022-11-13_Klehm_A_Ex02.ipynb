{
 "cells": [
  {
   "cell_type": "code",
   "execution_count": 19,
   "metadata": {
    "collapsed": true
   },
   "outputs": [
    {
     "name": "stdout",
     "output_type": "stream",
     "text": [
      "Number of neutron:  8\n"
     ]
    }
   ],
   "source": [
    "class Particle :\n",
    "\n",
    "    def __init__(self, a, z):\n",
    "        self.a = a\n",
    "        self.z = z\n",
    "    def getneutron(self):\n",
    "        return self.a-self.z\n",
    "\n",
    "c14 = Particle(14,6);\n",
    "print(\"Number of neutron: \",c14.getneutron())"
   ]
  },
  {
   "cell_type": "code",
   "execution_count": null,
   "outputs": [],
   "source": [],
   "metadata": {
    "collapsed": false
   }
  }
 ],
 "metadata": {
  "kernelspec": {
   "display_name": "Python 3",
   "language": "python",
   "name": "python3"
  },
  "language_info": {
   "codemirror_mode": {
    "name": "ipython",
    "version": 2
   },
   "file_extension": ".py",
   "mimetype": "text/x-python",
   "name": "python",
   "nbconvert_exporter": "python",
   "pygments_lexer": "ipython2",
   "version": "2.7.6"
  }
 },
 "nbformat": 4,
 "nbformat_minor": 0
}
