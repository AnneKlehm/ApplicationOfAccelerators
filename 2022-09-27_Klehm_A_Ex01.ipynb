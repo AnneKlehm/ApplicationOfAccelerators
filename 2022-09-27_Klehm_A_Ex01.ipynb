{
 "cells": [
  {
   "cell_type": "code",
   "execution_count": 12,
   "metadata": {},
   "outputs": [],
   "source": [
    "\n",
    "import numpy as np"
   ]
  },
  {
   "cell_type": "code",
   "execution_count": 13,
   "metadata": {},
   "outputs": [],
   "source": [
    "matrix1 = np.array([[1, 2, 3],[4, 5, 6],[7, 8, 9]],np.int32)"
   ]
  },
  {
   "cell_type": "code",
   "execution_count": 14,
   "outputs": [
    {
     "name": "stdout",
     "output_type": "stream",
     "text": [
      "[[1 2 3]\n",
      " [4 5 6]\n",
      " [7 8 9]]\n"
     ]
    }
   ],
   "source": [
    "print(matrix1)"
   ],
   "metadata": {
    "collapsed": false
   }
  },
  {
   "cell_type": "code",
   "execution_count": 19,
   "outputs": [
    {
     "name": "stdout",
     "output_type": "stream",
     "text": [
      "[[1 1 1]\n",
      " [1 1 1]\n",
      " [1 1 1]]\n"
     ]
    }
   ],
   "source": [
    "a=b=c=d=e=f=g=h=i=1\n",
    "\n",
    "matrix1 = np.array([[a, b, c],[d, e, f],[g, h, i]],np.int32)\n",
    "print(matrix1)"
   ],
   "metadata": {
    "collapsed": false
   }
  },
  {
   "cell_type": "code",
   "execution_count": 29,
   "outputs": [
    {
     "name": "stdout",
     "output_type": "stream",
     "text": [
      "matrix1 = \n",
      "[[4 6 6]\n",
      " [7 4 8]\n",
      " [9 1 0]]\n",
      "matrix2 = \n",
      "[[8 9 3]\n",
      " [4 5 7]\n",
      " [8 9 5]]\n",
      "matrix1 * matrix2 = \n",
      "[[104 120  84]\n",
      " [120 155  89]\n",
      " [ 76  86  34]]\n"
     ]
    }
   ],
   "source": [
    "import random\n",
    "a=random.randrange(0,10,1)\n",
    "b=random.randrange(0,10,1)\n",
    "c=random.randrange(0,10,1)\n",
    "d=random.randrange(0,10,1)\n",
    "e=random.randrange(0,10,1)\n",
    "f=random.randrange(0,10,1)\n",
    "g=random.randrange(0,10,1)\n",
    "h=random.randrange(0,10,1)\n",
    "i=random.randrange(0,10,1)\n",
    "j=random.randrange(0,10,1)\n",
    "k=random.randrange(0,10,1)\n",
    "l=random.randrange(0,10,1)\n",
    "m=random.randrange(0,10,1)\n",
    "n=random.randrange(0,10,1)\n",
    "o=random.randrange(0,10,1)\n",
    "p=random.randrange(0,10,1)\n",
    "q=random.randrange(0,10,1)\n",
    "r=random.randrange(0,10,1)\n",
    "\n",
    "\n",
    "matrix1 = np.array([[a, b, c],[d, e, f],[g, h, i]],np.int32)\n",
    "matrix2 = np.array([[j, k, l],[m, n, o],[p, q, r]],np.int32)\n",
    "\n",
    "a1 = a*j+b*m+c*p\n",
    "b1 = a*k+b*n+c*q\n",
    "c1 = a*l+b*o+c*r\n",
    "d1 = d*j+e*m+c*p\n",
    "e1 = d*k+e*n+f*q\n",
    "f1 = d*l+e*o+f*r\n",
    "g1 = g*j+h*m+i*p\n",
    "h1 = g*k+h*n+i*q\n",
    "i1 = g*l+h*o+i*r\n",
    "\n",
    "matrixmulti = np.array([[a1, b1, c1],[d1, e1, f1],[g1, h1, i1]],np.int32)\n",
    "\n",
    "\n",
    "print('matrix1 = ')\n",
    "print(matrix1)\n",
    "print('matrix2 = ')\n",
    "print(matrix2)\n",
    "print('matrix1 * matrix2 = ')\n",
    "print(matrixmulti)\n",
    "\n"
   ],
   "metadata": {
    "collapsed": false
   }
  },
  {
   "cell_type": "code",
   "execution_count": 28,
   "outputs": [],
   "source": [],
   "metadata": {
    "collapsed": false
   }
  },
  {
   "cell_type": "code",
   "execution_count": null,
   "outputs": [],
   "source": [],
   "metadata": {
    "collapsed": false
   }
  }
 ],
 "metadata": {
  "kernelspec": {
   "display_name": "Python 3 (ipykernel)",
   "language": "python",
   "name": "python3"
  },
  "language_info": {
   "codemirror_mode": {
    "name": "ipython",
    "version": 3
   },
   "file_extension": ".py",
   "mimetype": "text/x-python",
   "name": "python",
   "nbconvert_exporter": "python",
   "pygments_lexer": "ipython3",
   "version": "3.10.7"
  }
 },
 "nbformat": 4,
 "nbformat_minor": 1
}
